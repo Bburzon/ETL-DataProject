{
 "cells": [
  {
   "cell_type": "markdown",
   "id": "0469b41d",
   "metadata": {},
   "source": [
    "# ETL Videogame Data from Kaggle to Postgresql with PySpark "
   ]
  },
  {
   "cell_type": "code",
   "execution_count": 17,
   "id": "db8cb129",
   "metadata": {},
   "outputs": [
    {
     "data": {
      "text/plain": [
       "True"
      ]
     },
     "execution_count": 17,
     "metadata": {},
     "output_type": "execute_result"
    }
   ],
   "source": [
    "import os\n",
    "from dotenv import load_dotenv\n",
    "load_dotenv()"
   ]
  },
  {
   "cell_type": "code",
   "execution_count": 18,
   "id": "b9035c62",
   "metadata": {},
   "outputs": [],
   "source": [
    "from kaggle.api.kaggle_api_extended import KaggleApi\n",
    "api = KaggleApi()\n",
    "api.authenticate()"
   ]
  },
  {
   "cell_type": "markdown",
   "id": "440074fb",
   "metadata": {},
   "source": [
    "### Check if Raw file directory exists"
   ]
  },
  {
   "cell_type": "code",
   "execution_count": 21,
   "id": "94bf3bf2",
   "metadata": {},
   "outputs": [],
   "source": [
    "target_dir = \"raw/vgsales\"\n",
    "os.makedirs(target_dir, exist_ok=True)\n"
   ]
  },
  {
   "cell_type": "markdown",
   "id": "745e386f",
   "metadata": {},
   "source": [
    "### Download file to Directory"
   ]
  },
  {
   "cell_type": "code",
   "execution_count": 22,
   "id": "73e09ea0",
   "metadata": {},
   "outputs": [
    {
     "name": "stdout",
     "output_type": "stream",
     "text": [
      "Dataset URL: https://www.kaggle.com/datasets/gregorut/videogamesales\n",
      "Downloading videogamesales.zip to raw/vgsales\n"
     ]
    },
    {
     "name": "stderr",
     "output_type": "stream",
     "text": [
      "100%|██████████| 381k/381k [00:00<00:00, 5.12MB/s]"
     ]
    },
    {
     "name": "stdout",
     "output_type": "stream",
     "text": [
      "\n",
      "✅ Dataset is ready in raw/vgsales\n"
     ]
    },
    {
     "name": "stderr",
     "output_type": "stream",
     "text": [
      "\n"
     ]
    }
   ],
   "source": [
    "api.dataset_download_files(\n",
    "    \"gregorut/videogamesales\",\n",
    "    path=target_dir,\n",
    "    unzip=True,\n",
    "    quiet=False\n",
    ")\n",
    "\n",
    "print(f\"✅ Dataset is ready in {target_dir}\")"
   ]
  }
 ],
 "metadata": {
  "kernelspec": {
   "display_name": "etl_portfolio",
   "language": "python",
   "name": "python3"
  },
  "language_info": {
   "codemirror_mode": {
    "name": "ipython",
    "version": 3
   },
   "file_extension": ".py",
   "mimetype": "text/x-python",
   "name": "python",
   "nbconvert_exporter": "python",
   "pygments_lexer": "ipython3",
   "version": "3.12.10"
  }
 },
 "nbformat": 4,
 "nbformat_minor": 5
}
