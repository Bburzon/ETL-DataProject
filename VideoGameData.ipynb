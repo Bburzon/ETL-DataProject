{
 "cells": [
  {
   "cell_type": "markdown",
   "id": "0469b41d",
   "metadata": {},
   "source": [
    "# ETL Videogame Data from Kaggle to Postgresql with PySpark "
   ]
  },
  {
   "cell_type": "code",
   "execution_count": 1,
   "id": "db8cb129",
   "metadata": {},
   "outputs": [
    {
     "data": {
      "text/plain": [
       "True"
      ]
     },
     "execution_count": 1,
     "metadata": {},
     "output_type": "execute_result"
    }
   ],
   "source": [
    "import os\n",
    "import psycopg2\n",
    "from dotenv import load_dotenv\n",
    "from pyspark.sql import SparkSession\n",
    "from pyspark.sql.functions import col\n",
    "\n",
    "load_dotenv()"
   ]
  },
  {
   "cell_type": "markdown",
   "id": "6304e5e9",
   "metadata": {},
   "source": [
    "### Connect to Kaggle API"
   ]
  },
  {
   "cell_type": "code",
   "execution_count": 2,
   "id": "b9035c62",
   "metadata": {},
   "outputs": [],
   "source": [
    "from kaggle.api.kaggle_api_extended import KaggleApi\n",
    "api = KaggleApi()\n",
    "api.authenticate()"
   ]
  },
  {
   "cell_type": "markdown",
   "id": "745e386f",
   "metadata": {},
   "source": [
    "### Download file to Directory"
   ]
  },
  {
   "cell_type": "code",
   "execution_count": 3,
   "id": "73e09ea0",
   "metadata": {},
   "outputs": [
    {
     "name": "stdout",
     "output_type": "stream",
     "text": [
      "Dataset URL: https://www.kaggle.com/datasets/gregorut/videogamesales\n",
      "Downloading videogamesales.zip to raw/vgsales\n"
     ]
    },
    {
     "name": "stderr",
     "output_type": "stream",
     "text": [
      "100%|██████████| 381k/381k [00:00<00:00, 1.86MB/s]"
     ]
    },
    {
     "name": "stdout",
     "output_type": "stream",
     "text": [
      "\n"
     ]
    },
    {
     "name": "stderr",
     "output_type": "stream",
     "text": [
      "\n"
     ]
    }
   ],
   "source": [
    "# Check if directory exists\n",
    "target_dir = \"raw/vgsales\"\n",
    "os.makedirs(target_dir, exist_ok=True)\n",
    "\n",
    "api.dataset_download_files(\n",
    "    \"gregorut/videogamesales\",\n",
    "    path=target_dir,\n",
    "    unzip=True,\n",
    "    quiet=False\n",
    ")"
   ]
  },
  {
   "cell_type": "markdown",
   "id": "1d0887bf",
   "metadata": {},
   "source": [
    "### Intiate Spark Session"
   ]
  },
  {
   "cell_type": "code",
   "execution_count": 4,
   "id": "470b326c",
   "metadata": {},
   "outputs": [
    {
     "name": "stdout",
     "output_type": "stream",
     "text": [
      ":: loading settings :: url = jar:file:/Users/bryanburzon/miniforge3/envs/etl_portfolio/lib/python3.12/site-packages/pyspark/jars/ivy-2.5.1.jar!/org/apache/ivy/core/settings/ivysettings.xml\n"
     ]
    },
    {
     "name": "stderr",
     "output_type": "stream",
     "text": [
      "Ivy Default Cache set to: /Users/bryanburzon/.ivy2/cache\n",
      "The jars for the packages stored in: /Users/bryanburzon/.ivy2/jars\n",
      "org.postgresql#postgresql added as a dependency\n",
      ":: resolving dependencies :: org.apache.spark#spark-submit-parent-e5fa5181-5522-4daa-826f-1e868e39d686;1.0\n",
      "\tconfs: [default]\n",
      "\tfound org.postgresql#postgresql;42.2.16 in central\n",
      "\tfound org.checkerframework#checker-qual;3.5.0 in central\n",
      ":: resolution report :: resolve 70ms :: artifacts dl 3ms\n",
      "\t:: modules in use:\n",
      "\torg.checkerframework#checker-qual;3.5.0 from central in [default]\n",
      "\torg.postgresql#postgresql;42.2.16 from central in [default]\n",
      "\t---------------------------------------------------------------------\n",
      "\t|                  |            modules            ||   artifacts   |\n",
      "\t|       conf       | number| search|dwnlded|evicted|| number|dwnlded|\n",
      "\t---------------------------------------------------------------------\n",
      "\t|      default     |   2   |   0   |   0   |   0   ||   2   |   0   |\n",
      "\t---------------------------------------------------------------------\n",
      ":: retrieving :: org.apache.spark#spark-submit-parent-e5fa5181-5522-4daa-826f-1e868e39d686\n",
      "\tconfs: [default]\n",
      "\t0 artifacts copied, 2 already retrieved (0kB/2ms)\n",
      "25/05/20 22:09:21 WARN NativeCodeLoader: Unable to load native-hadoop library for your platform... using builtin-java classes where applicable\n",
      "Setting default log level to \"WARN\".\n",
      "To adjust logging level use sc.setLogLevel(newLevel). For SparkR, use setLogLevel(newLevel).\n"
     ]
    }
   ],
   "source": [
    "spark = SparkSession.builder \\\n",
    "    .appName(\"VGSales\") \\\n",
    "    .config(\"spark.jars.packages\", \"org.postgresql:postgresql:42.2.16\") \\\n",
    "    .getOrCreate()\n",
    "\n",
    "spark.sparkContext.setLogLevel(\"ERROR\")"
   ]
  },
  {
   "cell_type": "markdown",
   "id": "5a00f9e7",
   "metadata": {},
   "source": [
    "### Load CSV to DF"
   ]
  },
  {
   "cell_type": "code",
   "execution_count": 5,
   "id": "1c13b3d7",
   "metadata": {},
   "outputs": [],
   "source": [
    "df_raw = spark.read.csv(\n",
    "    os.path.join(target_dir, \"vgsales.csv\"),\n",
    "    header=True,\n",
    "    inferSchema=True\n",
    ")"
   ]
  },
  {
   "cell_type": "markdown",
   "id": "5ce013e0",
   "metadata": {},
   "source": [
    "### Clean Columns"
   ]
  },
  {
   "cell_type": "code",
   "execution_count": 6,
   "id": "5f800126",
   "metadata": {},
   "outputs": [],
   "source": [
    "cols_clean = [c.strip().lower().replace(\" \", \"_\") for c in df_raw.columns]"
   ]
  },
  {
   "cell_type": "markdown",
   "id": "2905d83a",
   "metadata": {},
   "source": [
    "### Convert Data to String "
   ]
  },
  {
   "cell_type": "code",
   "execution_count": 7,
   "id": "6072c5d0",
   "metadata": {},
   "outputs": [],
   "source": [
    "df_stage = (\n",
    "    df_raw.toDF(*cols_clean)\n",
    "    .withColumn(\"rank\", col(\"rank\").cast(\"string\"))\n",
    "    .withColumn(\"year\", col(\"year\").cast(\"string\"))\n",
    "    .withColumn(\"na_sales\", col(\"na_sales\").cast(\"string\"))\n",
    "    .withColumn(\"eu_sales\", col(\"eu_sales\").cast(\"string\"))\n",
    "    .withColumn(\"jp_sales\", col(\"jp_sales\").cast(\"string\"))\n",
    "    .withColumn(\"other_sales\", col(\"other_sales\").cast(\"string\"))\n",
    "    .withColumn(\"global_sales\", col(\"global_sales\").cast(\"string\"))\n",
    ")"
   ]
  },
  {
   "cell_type": "markdown",
   "id": "8db55738",
   "metadata": {},
   "source": [
    "### Connect to Postgres"
   ]
  },
  {
   "cell_type": "code",
   "execution_count": 8,
   "id": "41483d29",
   "metadata": {},
   "outputs": [],
   "source": [
    "conn = psycopg2.connect(\n",
    "    host=os.getenv(\"POSTGRES_HOST\"),\n",
    "    port=os.getenv(\"POSTGRES_PORT\"),\n",
    "    dbname=os.getenv(\"POSTGRES_DB\"),\n",
    "    user=os.getenv(\"POSTGRES_USER\"),\n",
    "    password=os.getenv(\"POSTGRES_PASSWORD\")\n",
    ")"
   ]
  },
  {
   "cell_type": "markdown",
   "id": "799776bb",
   "metadata": {},
   "source": [
    "### Load Data to Postgresql "
   ]
  },
  {
   "cell_type": "code",
   "execution_count": 9,
   "id": "66448d85",
   "metadata": {},
   "outputs": [],
   "source": [
    "# Convert Spark DataFrame to pandas DataFrame\n",
    "pdf = df_stage.toPandas()\n",
    "\n",
    "# Insert data into PostgreSQL using psycopg2\n",
    "with conn.cursor() as cur:\n",
    "    # truncate the table before inserting new data\n",
    "    cur.execute(\"TRUNCATE TABLE raw.videogamesales\")\n",
    "  \n",
    "    for _, row in pdf.iterrows():\n",
    "        cur.execute(\n",
    "            \"\"\"\n",
    "            INSERT INTO raw.videogamesales \n",
    "            (rank, name, platform, year, genre, publisher, na_sales, eu_sales, jp_sales, other_sales, global_sales)\n",
    "            VALUES (%s, %s, %s, %s, %s, %s, %s, %s, %s, %s, %s)\n",
    "            \"\"\",\n",
    "            tuple(row[col] for col in cols_clean)\n",
    "        )\n",
    "    conn.commit()"
   ]
  },
  {
   "cell_type": "markdown",
   "id": "df4d5a48",
   "metadata": {},
   "source": [
    "### Close connection to Postgres"
   ]
  },
  {
   "cell_type": "code",
   "execution_count": 10,
   "id": "7ccadac5",
   "metadata": {},
   "outputs": [],
   "source": [
    "cur.close()\n",
    "conn.close()"
   ]
  },
  {
   "cell_type": "markdown",
   "id": "4db9fecf",
   "metadata": {},
   "source": [
    "### Close Connection to PySpark"
   ]
  },
  {
   "cell_type": "code",
   "execution_count": 11,
   "id": "1a52d152",
   "metadata": {},
   "outputs": [],
   "source": [
    "spark.stop()"
   ]
  }
 ],
 "metadata": {
  "kernelspec": {
   "display_name": "etl_portfolio",
   "language": "python",
   "name": "python3"
  },
  "language_info": {
   "codemirror_mode": {
    "name": "ipython",
    "version": 3
   },
   "file_extension": ".py",
   "mimetype": "text/x-python",
   "name": "python",
   "nbconvert_exporter": "python",
   "pygments_lexer": "ipython3",
   "version": "3.12.10"
  }
 },
 "nbformat": 4,
 "nbformat_minor": 5
}
